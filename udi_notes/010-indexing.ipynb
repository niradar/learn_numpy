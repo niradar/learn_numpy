{
 "cells": [
  {
   "cell_type": "markdown",
   "metadata": {},
   "source": [
    "# Accessing Array Data: Indexing and Views"
   ]
  },
  {
   "cell_type": "code",
   "execution_count": 3,
   "metadata": {
    "execution": {
     "iopub.execute_input": "2024-07-25T09:12:31.955057Z",
     "iopub.status.busy": "2024-07-25T09:12:31.954045Z",
     "iopub.status.idle": "2024-07-25T09:12:31.958579Z",
     "shell.execute_reply": "2024-07-25T09:12:31.958063Z",
     "shell.execute_reply.started": "2024-07-25T09:12:31.955057Z"
    }
   },
   "outputs": [],
   "source": [
    "import numpy as np"
   ]
  },
  {
   "cell_type": "code",
   "execution_count": 4,
   "metadata": {
    "execution": {
     "iopub.execute_input": "2024-07-25T09:12:32.202712Z",
     "iopub.status.busy": "2024-07-25T09:12:32.202712Z",
     "iopub.status.idle": "2024-07-25T09:12:32.208713Z",
     "shell.execute_reply": "2024-07-25T09:12:32.207714Z",
     "shell.execute_reply.started": "2024-07-25T09:12:32.202712Z"
    }
   },
   "outputs": [],
   "source": [
    "a = np.linspace(10, 100, 10, dtype=int)"
   ]
  },
  {
   "cell_type": "code",
   "execution_count": 5,
   "metadata": {
    "execution": {
     "iopub.execute_input": "2024-07-25T09:12:32.395093Z",
     "iopub.status.busy": "2024-07-25T09:12:32.395093Z",
     "iopub.status.idle": "2024-07-25T09:12:32.400606Z",
     "shell.execute_reply": "2024-07-25T09:12:32.400606Z",
     "shell.execute_reply.started": "2024-07-25T09:12:32.395093Z"
    }
   },
   "outputs": [
    {
     "data": {
      "text/plain": [
       "array([ 10,  20,  30,  40,  50,  60,  70,  80,  90, 100])"
      ]
     },
     "execution_count": 5,
     "metadata": {},
     "output_type": "execute_result"
    }
   ],
   "source": [
    "a"
   ]
  },
  {
   "cell_type": "markdown",
   "metadata": {},
   "source": [
    "## Accessing array items (scalars)"
   ]
  },
  {
   "cell_type": "code",
   "execution_count": 6,
   "metadata": {
    "execution": {
     "iopub.execute_input": "2024-07-25T09:12:32.931079Z",
     "iopub.status.busy": "2024-07-25T09:12:32.931079Z",
     "iopub.status.idle": "2024-07-25T09:12:32.937084Z",
     "shell.execute_reply": "2024-07-25T09:12:32.936083Z",
     "shell.execute_reply.started": "2024-07-25T09:12:32.931079Z"
    }
   },
   "outputs": [
    {
     "data": {
      "text/plain": [
       "np.int64(10)"
      ]
     },
     "execution_count": 6,
     "metadata": {},
     "output_type": "execute_result"
    }
   ],
   "source": [
    "a[0] # first item is #0"
   ]
  },
  {
   "cell_type": "code",
   "execution_count": 7,
   "metadata": {
    "execution": {
     "iopub.execute_input": "2024-07-25T09:12:33.365054Z",
     "iopub.status.busy": "2024-07-25T09:12:33.364060Z",
     "iopub.status.idle": "2024-07-25T09:12:33.370708Z",
     "shell.execute_reply": "2024-07-25T09:12:33.369692Z",
     "shell.execute_reply.started": "2024-07-25T09:12:33.365054Z"
    }
   },
   "outputs": [
    {
     "data": {
      "text/plain": [
       "np.int64(70)"
      ]
     },
     "execution_count": 7,
     "metadata": {},
     "output_type": "execute_result"
    }
   ],
   "source": [
    "a[6]"
   ]
  },
  {
   "cell_type": "code",
   "execution_count": 8,
   "metadata": {
    "execution": {
     "iopub.execute_input": "2024-07-25T09:12:33.659923Z",
     "iopub.status.busy": "2024-07-25T09:12:33.659923Z",
     "iopub.status.idle": "2024-07-25T09:12:33.677537Z",
     "shell.execute_reply": "2024-07-25T09:12:33.676532Z",
     "shell.execute_reply.started": "2024-07-25T09:12:33.659923Z"
    }
   },
   "outputs": [
    {
     "ename": "IndexError",
     "evalue": "index 10 is out of bounds for axis 0 with size 10",
     "output_type": "error",
     "traceback": [
      "\u001b[1;31m---------------------------------------------------------------------------\u001b[0m",
      "\u001b[1;31mIndexError\u001b[0m                                Traceback (most recent call last)",
      "Cell \u001b[1;32mIn[8], line 1\u001b[0m\n\u001b[1;32m----> 1\u001b[0m \u001b[43ma\u001b[49m\u001b[43m[\u001b[49m\u001b[38;5;241;43m10\u001b[39;49m\u001b[43m]\u001b[49m\n",
      "\u001b[1;31mIndexError\u001b[0m: index 10 is out of bounds for axis 0 with size 10"
     ]
    }
   ],
   "source": [
    "a[10]"
   ]
  },
  {
   "cell_type": "markdown",
   "metadata": {},
   "source": [
    "### Reminder: negative indexing"
   ]
  },
  {
   "cell_type": "code",
   "execution_count": 9,
   "metadata": {
    "execution": {
     "iopub.execute_input": "2024-07-25T09:12:34.444898Z",
     "iopub.status.busy": "2024-07-25T09:12:34.444898Z",
     "iopub.status.idle": "2024-07-25T09:12:34.449321Z",
     "shell.execute_reply": "2024-07-25T09:12:34.449321Z",
     "shell.execute_reply.started": "2024-07-25T09:12:34.444898Z"
    }
   },
   "outputs": [
    {
     "data": {
      "text/plain": [
       "np.int64(100)"
      ]
     },
     "execution_count": 9,
     "metadata": {},
     "output_type": "execute_result"
    }
   ],
   "source": [
    "a[-1]  # access the last element"
   ]
  },
  {
   "cell_type": "code",
   "execution_count": 10,
   "metadata": {
    "execution": {
     "iopub.execute_input": "2024-07-25T09:12:34.909712Z",
     "iopub.status.busy": "2024-07-25T09:12:34.908718Z",
     "iopub.status.idle": "2024-07-25T09:12:34.914646Z",
     "shell.execute_reply": "2024-07-25T09:12:34.914646Z",
     "shell.execute_reply.started": "2024-07-25T09:12:34.909712Z"
    }
   },
   "outputs": [
    {
     "data": {
      "text/plain": [
       "numpy.int64"
      ]
     },
     "execution_count": 10,
     "metadata": {},
     "output_type": "execute_result"
    }
   ],
   "source": [
    "type(a[0])"
   ]
  },
  {
   "cell_type": "markdown",
   "metadata": {},
   "source": [
    "## Creating slices"
   ]
  },
  {
   "cell_type": "code",
   "execution_count": 11,
   "metadata": {
    "execution": {
     "iopub.execute_input": "2024-07-25T09:12:36.788853Z",
     "iopub.status.busy": "2024-07-25T09:12:36.787854Z",
     "iopub.status.idle": "2024-07-25T09:12:36.791854Z",
     "shell.execute_reply": "2024-07-25T09:12:36.791854Z",
     "shell.execute_reply.started": "2024-07-25T09:12:36.788853Z"
    }
   },
   "outputs": [],
   "source": [
    "a_1 = a[2:4]"
   ]
  },
  {
   "cell_type": "code",
   "execution_count": 12,
   "metadata": {
    "execution": {
     "iopub.execute_input": "2024-07-25T09:12:37.386929Z",
     "iopub.status.busy": "2024-07-25T09:12:37.386929Z",
     "iopub.status.idle": "2024-07-25T09:12:37.391930Z",
     "shell.execute_reply": "2024-07-25T09:12:37.391930Z",
     "shell.execute_reply.started": "2024-07-25T09:12:37.386929Z"
    }
   },
   "outputs": [
    {
     "data": {
      "text/plain": [
       "array([30, 40])"
      ]
     },
     "execution_count": 12,
     "metadata": {},
     "output_type": "execute_result"
    }
   ],
   "source": [
    "a_1"
   ]
  },
  {
   "cell_type": "markdown",
   "metadata": {},
   "source": [
    "## A slice is a **view** of an array!!!"
   ]
  },
  {
   "cell_type": "code",
   "execution_count": 13,
   "metadata": {
    "execution": {
     "iopub.execute_input": "2024-07-25T09:12:38.219285Z",
     "iopub.status.busy": "2024-07-25T09:12:38.219285Z",
     "iopub.status.idle": "2024-07-25T09:12:38.223057Z",
     "shell.execute_reply": "2024-07-25T09:12:38.223057Z",
     "shell.execute_reply.started": "2024-07-25T09:12:38.219285Z"
    }
   },
   "outputs": [],
   "source": [
    "a_1[0] = 9999"
   ]
  },
  {
   "cell_type": "code",
   "execution_count": 14,
   "metadata": {
    "execution": {
     "iopub.execute_input": "2024-07-25T09:12:38.658901Z",
     "iopub.status.busy": "2024-07-25T09:12:38.658901Z",
     "iopub.status.idle": "2024-07-25T09:12:38.665941Z",
     "shell.execute_reply": "2024-07-25T09:12:38.664945Z",
     "shell.execute_reply.started": "2024-07-25T09:12:38.658901Z"
    }
   },
   "outputs": [
    {
     "data": {
      "text/plain": [
       "array([9999,   40])"
      ]
     },
     "execution_count": 14,
     "metadata": {},
     "output_type": "execute_result"
    }
   ],
   "source": [
    "a_1"
   ]
  },
  {
   "cell_type": "code",
   "execution_count": 15,
   "metadata": {
    "execution": {
     "iopub.execute_input": "2024-07-25T09:15:07.836862Z",
     "iopub.status.busy": "2024-07-25T09:15:07.836862Z",
     "iopub.status.idle": "2024-07-25T09:15:07.841808Z",
     "shell.execute_reply": "2024-07-25T09:15:07.841808Z",
     "shell.execute_reply.started": "2024-07-25T09:15:07.836862Z"
    }
   },
   "outputs": [
    {
     "data": {
      "text/plain": [
       "array([  10,   20, 9999,   40,   50,   60,   70,   80,   90,  100])"
      ]
     },
     "execution_count": 15,
     "metadata": {},
     "output_type": "execute_result"
    }
   ],
   "source": [
    "a  # regular slice creates a copy, slice of numpy array creates a view to the orignal array"
   ]
  },
  {
   "cell_type": "code",
   "execution_count": 16,
   "metadata": {
    "execution": {
     "iopub.execute_input": "2024-07-25T09:15:14.259319Z",
     "iopub.status.busy": "2024-07-25T09:15:14.258319Z",
     "iopub.status.idle": "2024-07-25T09:15:14.264317Z",
     "shell.execute_reply": "2024-07-25T09:15:14.264317Z",
     "shell.execute_reply.started": "2024-07-25T09:15:14.259319Z"
    }
   },
   "outputs": [
    {
     "data": {
      "text/plain": [
       "  C_CONTIGUOUS : True\n",
       "  F_CONTIGUOUS : True\n",
       "  OWNDATA : False\n",
       "  WRITEABLE : True\n",
       "  ALIGNED : True\n",
       "  WRITEBACKIFCOPY : False"
      ]
     },
     "execution_count": 16,
     "metadata": {},
     "output_type": "execute_result"
    }
   ],
   "source": [
    "a_1.flags"
   ]
  },
  {
   "cell_type": "code",
   "execution_count": 17,
   "metadata": {
    "execution": {
     "iopub.execute_input": "2024-07-25T09:15:16.597597Z",
     "iopub.status.busy": "2024-07-25T09:15:16.596592Z",
     "iopub.status.idle": "2024-07-25T09:15:16.602598Z",
     "shell.execute_reply": "2024-07-25T09:15:16.602598Z",
     "shell.execute_reply.started": "2024-07-25T09:15:16.597597Z"
    }
   },
   "outputs": [
    {
     "data": {
      "text/plain": [
       "  C_CONTIGUOUS : True\n",
       "  F_CONTIGUOUS : True\n",
       "  OWNDATA : True\n",
       "  WRITEABLE : True\n",
       "  ALIGNED : True\n",
       "  WRITEBACKIFCOPY : False"
      ]
     },
     "execution_count": 17,
     "metadata": {},
     "output_type": "execute_result"
    }
   ],
   "source": [
    "a.flags"
   ]
  },
  {
   "cell_type": "markdown",
   "metadata": {},
   "source": [
    "### We can always create a copy:"
   ]
  },
  {
   "cell_type": "code",
   "execution_count": 18,
   "metadata": {
    "execution": {
     "iopub.execute_input": "2024-07-25T09:18:34.460008Z",
     "iopub.status.busy": "2024-07-25T09:18:34.460008Z",
     "iopub.status.idle": "2024-07-25T09:18:34.464662Z",
     "shell.execute_reply": "2024-07-25T09:18:34.463650Z",
     "shell.execute_reply.started": "2024-07-25T09:18:34.460008Z"
    }
   },
   "outputs": [],
   "source": [
    "c = a[2:4].copy()"
   ]
  },
  {
   "cell_type": "code",
   "execution_count": 19,
   "metadata": {
    "execution": {
     "iopub.execute_input": "2024-07-25T09:18:41.107578Z",
     "iopub.status.busy": "2024-07-25T09:18:41.106577Z",
     "iopub.status.idle": "2024-07-25T09:18:41.111818Z",
     "shell.execute_reply": "2024-07-25T09:18:41.111818Z",
     "shell.execute_reply.started": "2024-07-25T09:18:41.107578Z"
    }
   },
   "outputs": [
    {
     "data": {
      "text/plain": [
       "  C_CONTIGUOUS : True\n",
       "  F_CONTIGUOUS : True\n",
       "  OWNDATA : True\n",
       "  WRITEABLE : True\n",
       "  ALIGNED : True\n",
       "  WRITEBACKIFCOPY : False"
      ]
     },
     "execution_count": 19,
     "metadata": {},
     "output_type": "execute_result"
    }
   ],
   "source": [
    "c.flags"
   ]
  },
  {
   "cell_type": "markdown",
   "metadata": {},
   "source": [
    "## Indexing in multi-dimensional arrays"
   ]
  },
  {
   "cell_type": "code",
   "execution_count": 20,
   "metadata": {
    "execution": {
     "iopub.execute_input": "2024-07-25T09:24:30.793855Z",
     "iopub.status.busy": "2024-07-25T09:24:30.793855Z",
     "iopub.status.idle": "2024-07-25T09:24:30.798792Z",
     "shell.execute_reply": "2024-07-25T09:24:30.798792Z",
     "shell.execute_reply.started": "2024-07-25T09:24:30.793855Z"
    }
   },
   "outputs": [],
   "source": [
    "b = np.arange(50).reshape(5, 10)"
   ]
  },
  {
   "cell_type": "code",
   "execution_count": 21,
   "metadata": {
    "execution": {
     "iopub.execute_input": "2024-07-25T09:24:31.051750Z",
     "iopub.status.busy": "2024-07-25T09:24:31.051750Z",
     "iopub.status.idle": "2024-07-25T09:24:31.056927Z",
     "shell.execute_reply": "2024-07-25T09:24:31.056927Z",
     "shell.execute_reply.started": "2024-07-25T09:24:31.051750Z"
    }
   },
   "outputs": [
    {
     "data": {
      "text/plain": [
       "array([[ 0,  1,  2,  3,  4,  5,  6,  7,  8,  9],\n",
       "       [10, 11, 12, 13, 14, 15, 16, 17, 18, 19],\n",
       "       [20, 21, 22, 23, 24, 25, 26, 27, 28, 29],\n",
       "       [30, 31, 32, 33, 34, 35, 36, 37, 38, 39],\n",
       "       [40, 41, 42, 43, 44, 45, 46, 47, 48, 49]])"
      ]
     },
     "execution_count": 21,
     "metadata": {},
     "output_type": "execute_result"
    }
   ],
   "source": [
    "b"
   ]
  },
  {
   "cell_type": "code",
   "execution_count": 22,
   "metadata": {
    "execution": {
     "iopub.execute_input": "2024-07-25T09:24:31.258779Z",
     "iopub.status.busy": "2024-07-25T09:24:31.258779Z",
     "iopub.status.idle": "2024-07-25T09:24:31.264257Z",
     "shell.execute_reply": "2024-07-25T09:24:31.264257Z",
     "shell.execute_reply.started": "2024-07-25T09:24:31.258779Z"
    }
   },
   "outputs": [
    {
     "data": {
      "text/plain": [
       "array([0, 1, 2, 3, 4, 5, 6, 7, 8, 9])"
      ]
     },
     "execution_count": 22,
     "metadata": {},
     "output_type": "execute_result"
    }
   ],
   "source": [
    "b[0]"
   ]
  },
  {
   "cell_type": "code",
   "execution_count": 23,
   "metadata": {
    "execution": {
     "iopub.execute_input": "2024-07-25T09:24:31.450988Z",
     "iopub.status.busy": "2024-07-25T09:24:31.450988Z",
     "iopub.status.idle": "2024-07-25T09:24:31.454980Z",
     "shell.execute_reply": "2024-07-25T09:24:31.454980Z",
     "shell.execute_reply.started": "2024-07-25T09:24:31.450988Z"
    }
   },
   "outputs": [],
   "source": [
    "b[3,5] = 999"
   ]
  },
  {
   "cell_type": "code",
   "execution_count": 24,
   "metadata": {
    "execution": {
     "iopub.execute_input": "2024-07-25T09:24:31.715042Z",
     "iopub.status.busy": "2024-07-25T09:24:31.714042Z",
     "iopub.status.idle": "2024-07-25T09:24:31.719650Z",
     "shell.execute_reply": "2024-07-25T09:24:31.719650Z",
     "shell.execute_reply.started": "2024-07-25T09:24:31.715042Z"
    }
   },
   "outputs": [
    {
     "data": {
      "text/plain": [
       "array([[  0,   1,   2,   3,   4,   5,   6,   7,   8,   9],\n",
       "       [ 10,  11,  12,  13,  14,  15,  16,  17,  18,  19],\n",
       "       [ 20,  21,  22,  23,  24,  25,  26,  27,  28,  29],\n",
       "       [ 30,  31,  32,  33,  34, 999,  36,  37,  38,  39],\n",
       "       [ 40,  41,  42,  43,  44,  45,  46,  47,  48,  49]])"
      ]
     },
     "execution_count": 24,
     "metadata": {},
     "output_type": "execute_result"
    }
   ],
   "source": [
    "b"
   ]
  },
  {
   "cell_type": "code",
   "execution_count": 25,
   "metadata": {
    "execution": {
     "iopub.execute_input": "2024-07-25T09:24:31.908287Z",
     "iopub.status.busy": "2024-07-25T09:24:31.907288Z",
     "iopub.status.idle": "2024-07-25T09:24:31.913742Z",
     "shell.execute_reply": "2024-07-25T09:24:31.913742Z",
     "shell.execute_reply.started": "2024-07-25T09:24:31.908287Z"
    }
   },
   "outputs": [
    {
     "data": {
      "text/plain": [
       "array([ 0, 10, 20, 30, 40])"
      ]
     },
     "execution_count": 25,
     "metadata": {},
     "output_type": "execute_result"
    }
   ],
   "source": [
    "b[:,0]"
   ]
  },
  {
   "cell_type": "code",
   "execution_count": 26,
   "metadata": {
    "execution": {
     "iopub.execute_input": "2024-07-25T09:24:32.105913Z",
     "iopub.status.busy": "2024-07-25T09:24:32.105913Z",
     "iopub.status.idle": "2024-07-25T09:24:32.110322Z",
     "shell.execute_reply": "2024-07-25T09:24:32.109308Z",
     "shell.execute_reply.started": "2024-07-25T09:24:32.105913Z"
    }
   },
   "outputs": [],
   "source": [
    "col1 = b[:,0]"
   ]
  },
  {
   "cell_type": "code",
   "execution_count": 27,
   "metadata": {
    "execution": {
     "iopub.execute_input": "2024-07-25T09:24:32.377840Z",
     "iopub.status.busy": "2024-07-25T09:24:32.377840Z",
     "iopub.status.idle": "2024-07-25T09:24:32.382218Z",
     "shell.execute_reply": "2024-07-25T09:24:32.382218Z",
     "shell.execute_reply.started": "2024-07-25T09:24:32.377840Z"
    }
   },
   "outputs": [
    {
     "data": {
      "text/plain": [
       "array([ 0, 10, 20, 30, 40])"
      ]
     },
     "execution_count": 27,
     "metadata": {},
     "output_type": "execute_result"
    }
   ],
   "source": [
    "col1"
   ]
  },
  {
   "cell_type": "code",
   "execution_count": 28,
   "metadata": {
    "execution": {
     "iopub.execute_input": "2024-07-25T09:24:32.555750Z",
     "iopub.status.busy": "2024-07-25T09:24:32.554749Z",
     "iopub.status.idle": "2024-07-25T09:24:32.559342Z",
     "shell.execute_reply": "2024-07-25T09:24:32.559342Z",
     "shell.execute_reply.started": "2024-07-25T09:24:32.555750Z"
    }
   },
   "outputs": [],
   "source": [
    "col1[3] = 1234"
   ]
  },
  {
   "cell_type": "code",
   "execution_count": 29,
   "metadata": {
    "execution": {
     "iopub.execute_input": "2024-07-25T09:24:32.793783Z",
     "iopub.status.busy": "2024-07-25T09:24:32.793783Z",
     "iopub.status.idle": "2024-07-25T09:24:32.799285Z",
     "shell.execute_reply": "2024-07-25T09:24:32.799285Z",
     "shell.execute_reply.started": "2024-07-25T09:24:32.793783Z"
    }
   },
   "outputs": [
    {
     "data": {
      "text/plain": [
       "array([   0,   10,   20, 1234,   40])"
      ]
     },
     "execution_count": 29,
     "metadata": {},
     "output_type": "execute_result"
    }
   ],
   "source": [
    "col1"
   ]
  },
  {
   "cell_type": "code",
   "execution_count": 30,
   "metadata": {
    "execution": {
     "iopub.execute_input": "2024-07-25T09:24:33.035865Z",
     "iopub.status.busy": "2024-07-25T09:24:33.035865Z",
     "iopub.status.idle": "2024-07-25T09:24:33.040866Z",
     "shell.execute_reply": "2024-07-25T09:24:33.040866Z",
     "shell.execute_reply.started": "2024-07-25T09:24:33.035865Z"
    }
   },
   "outputs": [
    {
     "data": {
      "text/plain": [
       "array([[   0,    1,    2,    3,    4,    5,    6,    7,    8,    9],\n",
       "       [  10,   11,   12,   13,   14,   15,   16,   17,   18,   19],\n",
       "       [  20,   21,   22,   23,   24,   25,   26,   27,   28,   29],\n",
       "       [1234,   31,   32,   33,   34,  999,   36,   37,   38,   39],\n",
       "       [  40,   41,   42,   43,   44,   45,   46,   47,   48,   49]])"
      ]
     },
     "execution_count": 30,
     "metadata": {},
     "output_type": "execute_result"
    }
   ],
   "source": [
    "b"
   ]
  },
  {
   "cell_type": "code",
   "execution_count": 43,
   "metadata": {
    "execution": {
     "iopub.execute_input": "2024-07-25T09:38:59.473345Z",
     "iopub.status.busy": "2024-07-25T09:38:59.473345Z",
     "iopub.status.idle": "2024-07-25T09:38:59.479173Z",
     "shell.execute_reply": "2024-07-25T09:38:59.479173Z",
     "shell.execute_reply.started": "2024-07-25T09:38:59.473345Z"
    }
   },
   "outputs": [
    {
     "data": {
      "text/plain": [
       "array([ 9, 19, 29, 39, 49])"
      ]
     },
     "execution_count": 43,
     "metadata": {},
     "output_type": "execute_result"
    }
   ],
   "source": [
    "b[:,-1]  # get the last column"
   ]
  },
  {
   "cell_type": "code",
   "execution_count": 32,
   "metadata": {
    "execution": {
     "iopub.execute_input": "2024-07-25T09:24:33.859075Z",
     "iopub.status.busy": "2024-07-25T09:24:33.858074Z",
     "iopub.status.idle": "2024-07-25T09:24:33.864648Z",
     "shell.execute_reply": "2024-07-25T09:24:33.863645Z",
     "shell.execute_reply.started": "2024-07-25T09:24:33.859075Z"
    }
   },
   "outputs": [
    {
     "data": {
      "text/plain": [
       "array([40, 41, 42, 43, 44, 45, 46, 47, 48, 49])"
      ]
     },
     "execution_count": 32,
     "metadata": {},
     "output_type": "execute_result"
    }
   ],
   "source": [
    "b[-1]"
   ]
  },
  {
   "cell_type": "code",
   "execution_count": 44,
   "metadata": {
    "execution": {
     "iopub.execute_input": "2024-07-25T10:48:37.069967Z",
     "iopub.status.busy": "2024-07-25T10:48:37.069967Z",
     "iopub.status.idle": "2024-07-25T10:48:37.074436Z",
     "shell.execute_reply": "2024-07-25T10:48:37.074436Z",
     "shell.execute_reply.started": "2024-07-25T10:48:37.069967Z"
    }
   },
   "outputs": [
    {
     "data": {
      "text/plain": [
       "array([[ 44,  45,  46,  47,  48,  49],\n",
       "       [ 34, 999,  36,  37,  38,  39],\n",
       "       [ 24,  25,  26,  27,  28,  29],\n",
       "       [ 14,  15,  16,  17,  18,  19],\n",
       "       [  4,   5,   6,   7,   8,   9]])"
      ]
     },
     "execution_count": 44,
     "metadata": {},
     "output_type": "execute_result"
    }
   ],
   "source": [
    "b[::-1,4:]"
   ]
  },
  {
   "cell_type": "markdown",
   "metadata": {},
   "source": [
    "**`[::-1]`**: This is slicing on the rows of the array. The `::` indicates slicing, and the `-1` indicates the step. The step `-1` means to reverse the order of the rows. So, `b[::-1]` reverses the rows of `b`"
   ]
  },
  {
   "cell_type": "markdown",
   "metadata": {},
   "source": [
    "**`4:`**: This is slicing on the columns of the array. `4:` means \"start from column index 4 and include all subsequent columns\". So, `b[::-1, 4:]` will select columns from index 4 to the end, from the reversed rows array"
   ]
  },
  {
   "cell_type": "markdown",
   "metadata": {},
   "source": [
    "### Accessing items in NumPy Array"
   ]
  },
  {
   "cell_type": "code",
   "execution_count": 40,
   "metadata": {
    "execution": {
     "iopub.execute_input": "2024-07-25T09:32:19.984740Z",
     "iopub.status.busy": "2024-07-25T09:32:19.984740Z",
     "iopub.status.idle": "2024-07-25T09:32:19.990617Z",
     "shell.execute_reply": "2024-07-25T09:32:19.990617Z",
     "shell.execute_reply.started": "2024-07-25T09:32:19.984740Z"
    }
   },
   "outputs": [
    {
     "data": {
      "text/plain": [
       "np.int64(23)"
      ]
     },
     "execution_count": 40,
     "metadata": {},
     "output_type": "execute_result"
    }
   ],
   "source": [
    "b[2][3]  # This works, but not recommended - 2 actions - one for getting the row and second for the item"
   ]
  },
  {
   "cell_type": "code",
   "execution_count": 41,
   "metadata": {
    "execution": {
     "iopub.execute_input": "2024-07-25T09:33:55.645253Z",
     "iopub.status.busy": "2024-07-25T09:33:55.645253Z",
     "iopub.status.idle": "2024-07-25T09:33:55.651825Z",
     "shell.execute_reply": "2024-07-25T09:33:55.650819Z",
     "shell.execute_reply.started": "2024-07-25T09:33:55.645253Z"
    }
   },
   "outputs": [
    {
     "data": {
      "text/plain": [
       "np.int64(23)"
      ]
     },
     "execution_count": 41,
     "metadata": {},
     "output_type": "execute_result"
    }
   ],
   "source": [
    "b[(2,3)]  # Better way - direct access to the item"
   ]
  },
  {
   "cell_type": "code",
   "execution_count": 42,
   "metadata": {
    "execution": {
     "iopub.execute_input": "2024-07-25T09:34:20.218163Z",
     "iopub.status.busy": "2024-07-25T09:34:20.218163Z",
     "iopub.status.idle": "2024-07-25T09:34:20.223670Z",
     "shell.execute_reply": "2024-07-25T09:34:20.223670Z",
     "shell.execute_reply.started": "2024-07-25T09:34:20.218163Z"
    }
   },
   "outputs": [
    {
     "data": {
      "text/plain": [
       "np.int64(23)"
      ]
     },
     "execution_count": 42,
     "metadata": {},
     "output_type": "execute_result"
    }
   ],
   "source": [
    "b[2,3]  # The same as we can ommit () in tuples "
   ]
  },
  {
   "cell_type": "markdown",
   "metadata": {},
   "source": [
    "## "
   ]
  },
  {
   "cell_type": "code",
   "execution_count": null,
   "metadata": {},
   "outputs": [],
   "source": []
  }
 ],
 "metadata": {
  "kernelspec": {
   "display_name": "Python 3 (ipykernel)",
   "language": "python",
   "name": "python3"
  },
  "language_info": {
   "codemirror_mode": {
    "name": "ipython",
    "version": 3
   },
   "file_extension": ".py",
   "mimetype": "text/x-python",
   "name": "python",
   "nbconvert_exporter": "python",
   "pygments_lexer": "ipython3",
   "version": "3.12.1"
  }
 },
 "nbformat": 4,
 "nbformat_minor": 4
}
