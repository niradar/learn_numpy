{
 "cells": [
  {
   "cell_type": "code",
   "execution_count": 1,
   "metadata": {
    "execution": {
     "iopub.execute_input": "2024-07-25T13:12:18.169386Z",
     "iopub.status.busy": "2024-07-25T13:12:18.169386Z",
     "iopub.status.idle": "2024-07-25T13:12:18.172507Z",
     "shell.execute_reply": "2024-07-25T13:12:18.172507Z",
     "shell.execute_reply.started": "2024-07-25T13:12:18.169386Z"
    }
   },
   "outputs": [],
   "source": [
    "import numpy as np"
   ]
  },
  {
   "cell_type": "markdown",
   "metadata": {},
   "source": [
    "# Operations on arrays with the same size"
   ]
  },
  {
   "cell_type": "markdown",
   "metadata": {},
   "source": [
    "## Arithmetic operations"
   ]
  },
  {
   "cell_type": "markdown",
   "metadata": {},
   "source": [
    "To do fast operations on array it needs to be in the same length. We will show later how to deal with arrays of different sizes."
   ]
  },
  {
   "cell_type": "code",
   "execution_count": 6,
   "metadata": {
    "execution": {
     "iopub.execute_input": "2024-07-25T13:15:27.169039Z",
     "iopub.status.busy": "2024-07-25T13:15:27.169039Z",
     "iopub.status.idle": "2024-07-25T13:15:27.171863Z",
     "shell.execute_reply": "2024-07-25T13:15:27.171863Z",
     "shell.execute_reply.started": "2024-07-25T13:15:27.169039Z"
    }
   },
   "outputs": [],
   "source": [
    "a1 = np.arange(20)\n",
    "a2 = np.linspace(100,200,20)"
   ]
  },
  {
   "cell_type": "code",
   "execution_count": 7,
   "metadata": {
    "execution": {
     "iopub.execute_input": "2024-07-25T13:15:27.537245Z",
     "iopub.status.busy": "2024-07-25T13:15:27.537245Z",
     "iopub.status.idle": "2024-07-25T13:15:27.541123Z",
     "shell.execute_reply": "2024-07-25T13:15:27.541123Z",
     "shell.execute_reply.started": "2024-07-25T13:15:27.537245Z"
    }
   },
   "outputs": [
    {
     "data": {
      "text/plain": [
       "array([ 0,  1,  2,  3,  4,  5,  6,  7,  8,  9, 10, 11, 12, 13, 14, 15, 16,\n",
       "       17, 18, 19])"
      ]
     },
     "execution_count": 7,
     "metadata": {},
     "output_type": "execute_result"
    }
   ],
   "source": [
    "a1"
   ]
  },
  {
   "cell_type": "code",
   "execution_count": 8,
   "metadata": {
    "execution": {
     "iopub.execute_input": "2024-07-25T13:15:27.889530Z",
     "iopub.status.busy": "2024-07-25T13:15:27.889530Z",
     "iopub.status.idle": "2024-07-25T13:15:27.893532Z",
     "shell.execute_reply": "2024-07-25T13:15:27.893532Z",
     "shell.execute_reply.started": "2024-07-25T13:15:27.889530Z"
    }
   },
   "outputs": [
    {
     "data": {
      "text/plain": [
       "array([100.        , 105.26315789, 110.52631579, 115.78947368,\n",
       "       121.05263158, 126.31578947, 131.57894737, 136.84210526,\n",
       "       142.10526316, 147.36842105, 152.63157895, 157.89473684,\n",
       "       163.15789474, 168.42105263, 173.68421053, 178.94736842,\n",
       "       184.21052632, 189.47368421, 194.73684211, 200.        ])"
      ]
     },
     "execution_count": 8,
     "metadata": {},
     "output_type": "execute_result"
    }
   ],
   "source": [
    "a2"
   ]
  },
  {
   "cell_type": "code",
   "execution_count": 9,
   "metadata": {
    "execution": {
     "iopub.execute_input": "2024-07-25T13:15:28.226908Z",
     "iopub.status.busy": "2024-07-25T13:15:28.225908Z",
     "iopub.status.idle": "2024-07-25T13:15:28.230926Z",
     "shell.execute_reply": "2024-07-25T13:15:28.230423Z",
     "shell.execute_reply.started": "2024-07-25T13:15:28.226908Z"
    }
   },
   "outputs": [
    {
     "data": {
      "text/plain": [
       "array([   0.        ,  105.26315789,  221.05263158,  347.36842105,\n",
       "        484.21052632,  631.57894737,  789.47368421,  957.89473684,\n",
       "       1136.84210526, 1326.31578947, 1526.31578947, 1736.84210526,\n",
       "       1957.89473684, 2189.47368421, 2431.57894737, 2684.21052632,\n",
       "       2947.36842105, 3221.05263158, 3505.26315789, 3800.        ])"
      ]
     },
     "execution_count": 9,
     "metadata": {},
     "output_type": "execute_result"
    }
   ],
   "source": [
    "a1 * a2"
   ]
  },
  {
   "cell_type": "code",
   "execution_count": 10,
   "metadata": {
    "execution": {
     "iopub.execute_input": "2024-07-25T13:15:29.146667Z",
     "iopub.status.busy": "2024-07-25T13:15:29.146667Z",
     "iopub.status.idle": "2024-07-25T13:15:29.151666Z",
     "shell.execute_reply": "2024-07-25T13:15:29.151666Z",
     "shell.execute_reply.started": "2024-07-25T13:15:29.146667Z"
    }
   },
   "outputs": [
    {
     "data": {
      "text/plain": [
       "array([100.        , 106.26315789, 112.52631579, 118.78947368,\n",
       "       125.05263158, 131.31578947, 137.57894737, 143.84210526,\n",
       "       150.10526316, 156.36842105, 162.63157895, 168.89473684,\n",
       "       175.15789474, 181.42105263, 187.68421053, 193.94736842,\n",
       "       200.21052632, 206.47368421, 212.73684211, 219.        ])"
      ]
     },
     "execution_count": 10,
     "metadata": {},
     "output_type": "execute_result"
    }
   ],
   "source": [
    "a1 + a2"
   ]
  },
  {
   "cell_type": "code",
   "execution_count": 11,
   "metadata": {
    "execution": {
     "iopub.execute_input": "2024-07-25T13:15:29.865654Z",
     "iopub.status.busy": "2024-07-25T13:15:29.865654Z",
     "iopub.status.idle": "2024-07-25T13:15:29.870652Z",
     "shell.execute_reply": "2024-07-25T13:15:29.870652Z",
     "shell.execute_reply.started": "2024-07-25T13:15:29.865654Z"
    }
   },
   "outputs": [
    {
     "data": {
      "text/plain": [
       "array([100.        , 106.26315789, 112.52631579, 118.78947368,\n",
       "       125.05263158, 131.31578947, 137.57894737, 143.84210526,\n",
       "       150.10526316, 156.36842105, 162.63157895, 168.89473684,\n",
       "       175.15789474, 181.42105263, 187.68421053, 193.94736842,\n",
       "       200.21052632, 206.47368421, 212.73684211, 219.        ])"
      ]
     },
     "execution_count": 11,
     "metadata": {},
     "output_type": "execute_result"
    }
   ],
   "source": [
    "np.add(a1, a2)  # same"
   ]
  },
  {
   "cell_type": "markdown",
   "metadata": {},
   "source": [
    "## Comparison Operations"
   ]
  },
  {
   "cell_type": "code",
   "execution_count": 12,
   "metadata": {
    "execution": {
     "iopub.execute_input": "2024-07-25T13:15:33.760885Z",
     "iopub.status.busy": "2024-07-25T13:15:33.759887Z",
     "iopub.status.idle": "2024-07-25T13:15:33.948097Z",
     "shell.execute_reply": "2024-07-25T13:15:33.948097Z",
     "shell.execute_reply.started": "2024-07-25T13:15:33.760885Z"
    }
   },
   "outputs": [],
   "source": [
    "a3 = np.random.randint(5, size=15)\n",
    "a4 = np.random.randint(5, size=15)"
   ]
  },
  {
   "cell_type": "code",
   "execution_count": 13,
   "metadata": {
    "execution": {
     "iopub.execute_input": "2024-07-25T13:15:34.659189Z",
     "iopub.status.busy": "2024-07-25T13:15:34.659189Z",
     "iopub.status.idle": "2024-07-25T13:15:34.664190Z",
     "shell.execute_reply": "2024-07-25T13:15:34.664190Z",
     "shell.execute_reply.started": "2024-07-25T13:15:34.659189Z"
    }
   },
   "outputs": [
    {
     "name": "stdout",
     "output_type": "stream",
     "text": [
      "[0 2 1 1 4 4 2 0 4 1 3 4 1 1 2]\n",
      "[1 3 2 3 2 2 3 2 4 0 1 4 0 4 1]\n",
      "[False False False False False False False False  True False False  True\n",
      " False False False]\n",
      "[ True  True  True  True False False  True  True False False False False\n",
      " False  True False]\n",
      "[False False False False  True  True False False  True  True  True  True\n",
      "  True False  True]\n"
     ]
    }
   ],
   "source": [
    "print(a3)\n",
    "print(a4)\n",
    "print(a3 == a4)\n",
    "print(a3 < a4)\n",
    "print(a3 >= a4)"
   ]
  },
  {
   "cell_type": "code",
   "execution_count": 14,
   "metadata": {
    "execution": {
     "iopub.execute_input": "2024-07-25T13:16:41.552236Z",
     "iopub.status.busy": "2024-07-25T13:16:41.552236Z",
     "iopub.status.idle": "2024-07-25T13:16:41.556354Z",
     "shell.execute_reply": "2024-07-25T13:16:41.556354Z",
     "shell.execute_reply.started": "2024-07-25T13:16:41.552236Z"
    }
   },
   "outputs": [],
   "source": [
    "a3 = np.random.randint(5, size=(4, 6))\n",
    "a4 = np.random.randint(5, size=(4, 6))"
   ]
  },
  {
   "cell_type": "code",
   "execution_count": 15,
   "metadata": {
    "execution": {
     "iopub.execute_input": "2024-07-25T13:16:41.897800Z",
     "iopub.status.busy": "2024-07-25T13:16:41.896802Z",
     "iopub.status.idle": "2024-07-25T13:16:41.902168Z",
     "shell.execute_reply": "2024-07-25T13:16:41.902168Z",
     "shell.execute_reply.started": "2024-07-25T13:16:41.897800Z"
    }
   },
   "outputs": [
    {
     "name": "stdout",
     "output_type": "stream",
     "text": [
      "[[0 2 0 4 2 1]\n",
      " [1 0 0 3 4 0]\n",
      " [0 3 2 1 4 0]\n",
      " [4 1 4 3 3 0]]\n",
      "[[2 0 2 4 2 1]\n",
      " [0 4 2 1 4 1]\n",
      " [2 0 1 0 0 1]\n",
      " [1 1 4 4 1 3]]\n",
      "[[False False False  True  True  True]\n",
      " [False False False False  True False]\n",
      " [False False False False False False]\n",
      " [False  True  True False False False]]\n",
      "[[ True False  True False False False]\n",
      " [False  True  True False False  True]\n",
      " [ True False False False False  True]\n",
      " [False False False  True False  True]]\n",
      "[[False  True False  True  True  True]\n",
      " [ True False False  True  True False]\n",
      " [False  True  True  True  True False]\n",
      " [ True  True  True False  True False]]\n"
     ]
    }
   ],
   "source": [
    "print(a3)\n",
    "print(a4)\n",
    "print(a3 == a4)\n",
    "print(a3 < a4)\n",
    "print(a3 >= a4)"
   ]
  },
  {
   "cell_type": "markdown",
   "metadata": {},
   "source": [
    "### Note regarding scalar multiplication"
   ]
  },
  {
   "cell_type": "code",
   "execution_count": 16,
   "metadata": {
    "execution": {
     "iopub.execute_input": "2024-07-25T13:18:03.433979Z",
     "iopub.status.busy": "2024-07-25T13:18:03.432996Z",
     "iopub.status.idle": "2024-07-25T13:18:03.438734Z",
     "shell.execute_reply": "2024-07-25T13:18:03.438734Z",
     "shell.execute_reply.started": "2024-07-25T13:18:03.433979Z"
    }
   },
   "outputs": [
    {
     "data": {
      "text/plain": [
       "array([[ 0,  1,  2,  3,  4,  5,  6,  7,  8,  9],\n",
       "       [10, 11, 12, 13, 14, 15, 16, 17, 18, 19],\n",
       "       [20, 21, 22, 23, 24, 25, 26, 27, 28, 29],\n",
       "       [30, 31, 32, 33, 34, 35, 36, 37, 38, 39],\n",
       "       [40, 41, 42, 43, 44, 45, 46, 47, 48, 49],\n",
       "       [50, 51, 52, 53, 54, 55, 56, 57, 58, 59],\n",
       "       [60, 61, 62, 63, 64, 65, 66, 67, 68, 69],\n",
       "       [70, 71, 72, 73, 74, 75, 76, 77, 78, 79],\n",
       "       [80, 81, 82, 83, 84, 85, 86, 87, 88, 89],\n",
       "       [90, 91, 92, 93, 94, 95, 96, 97, 98, 99]])"
      ]
     },
     "execution_count": 16,
     "metadata": {},
     "output_type": "execute_result"
    }
   ],
   "source": [
    "a5 = np.arange(100).reshape(10,10)\n",
    "a5"
   ]
  },
  {
   "cell_type": "code",
   "execution_count": 17,
   "metadata": {
    "execution": {
     "iopub.execute_input": "2024-07-25T13:18:03.691185Z",
     "iopub.status.busy": "2024-07-25T13:18:03.690183Z",
     "iopub.status.idle": "2024-07-25T13:18:03.696183Z",
     "shell.execute_reply": "2024-07-25T13:18:03.696183Z",
     "shell.execute_reply.started": "2024-07-25T13:18:03.691185Z"
    }
   },
   "outputs": [
    {
     "data": {
      "text/plain": [
       "array([[0, 0, 0, 0, 0, 0, 0, 0, 0, 0],\n",
       "       [0, 1, 0, 0, 0, 0, 0, 0, 0, 0],\n",
       "       [0, 0, 2, 0, 0, 0, 0, 0, 0, 0],\n",
       "       [0, 0, 0, 3, 0, 0, 0, 0, 0, 0],\n",
       "       [0, 0, 0, 0, 4, 0, 0, 0, 0, 0],\n",
       "       [0, 0, 0, 0, 0, 5, 0, 0, 0, 0],\n",
       "       [0, 0, 0, 0, 0, 0, 6, 0, 0, 0],\n",
       "       [0, 0, 0, 0, 0, 0, 0, 7, 0, 0],\n",
       "       [0, 0, 0, 0, 0, 0, 0, 0, 8, 0],\n",
       "       [0, 0, 0, 0, 0, 0, 0, 0, 0, 9]])"
      ]
     },
     "execution_count": 17,
     "metadata": {},
     "output_type": "execute_result"
    }
   ],
   "source": [
    "a6 = np.diag(np.arange(10))\n",
    "a6"
   ]
  },
  {
   "cell_type": "code",
   "execution_count": 18,
   "metadata": {
    "execution": {
     "iopub.execute_input": "2024-07-25T13:18:04.114868Z",
     "iopub.status.busy": "2024-07-25T13:18:04.113886Z",
     "iopub.status.idle": "2024-07-25T13:18:04.119590Z",
     "shell.execute_reply": "2024-07-25T13:18:04.119590Z",
     "shell.execute_reply.started": "2024-07-25T13:18:04.114868Z"
    }
   },
   "outputs": [
    {
     "data": {
      "text/plain": [
       "array([[  0,   0,   0,   0,   0,   0,   0,   0,   0,   0],\n",
       "       [  0,  11,   0,   0,   0,   0,   0,   0,   0,   0],\n",
       "       [  0,   0,  44,   0,   0,   0,   0,   0,   0,   0],\n",
       "       [  0,   0,   0,  99,   0,   0,   0,   0,   0,   0],\n",
       "       [  0,   0,   0,   0, 176,   0,   0,   0,   0,   0],\n",
       "       [  0,   0,   0,   0,   0, 275,   0,   0,   0,   0],\n",
       "       [  0,   0,   0,   0,   0,   0, 396,   0,   0,   0],\n",
       "       [  0,   0,   0,   0,   0,   0,   0, 539,   0,   0],\n",
       "       [  0,   0,   0,   0,   0,   0,   0,   0, 704,   0],\n",
       "       [  0,   0,   0,   0,   0,   0,   0,   0,   0, 891]])"
      ]
     },
     "execution_count": 18,
     "metadata": {},
     "output_type": "execute_result"
    }
   ],
   "source": [
    "a5 * a6 # scalar multiplication"
   ]
  },
  {
   "cell_type": "code",
   "execution_count": 19,
   "metadata": {
    "execution": {
     "iopub.execute_input": "2024-07-25T13:20:24.720904Z",
     "iopub.status.busy": "2024-07-25T13:20:24.720904Z",
     "iopub.status.idle": "2024-07-25T13:20:24.725788Z",
     "shell.execute_reply": "2024-07-25T13:20:24.725788Z",
     "shell.execute_reply.started": "2024-07-25T13:20:24.720904Z"
    }
   },
   "outputs": [
    {
     "data": {
      "text/plain": [
       "array([[  0,   0,   0,   0,   0,   0,   0,   0,   0,   0],\n",
       "       [  0,  11,   0,   0,   0,   0,   0,   0,   0,   0],\n",
       "       [  0,   0,  44,   0,   0,   0,   0,   0,   0,   0],\n",
       "       [  0,   0,   0,  99,   0,   0,   0,   0,   0,   0],\n",
       "       [  0,   0,   0,   0, 176,   0,   0,   0,   0,   0],\n",
       "       [  0,   0,   0,   0,   0, 275,   0,   0,   0,   0],\n",
       "       [  0,   0,   0,   0,   0,   0, 396,   0,   0,   0],\n",
       "       [  0,   0,   0,   0,   0,   0,   0, 539,   0,   0],\n",
       "       [  0,   0,   0,   0,   0,   0,   0,   0, 704,   0],\n",
       "       [  0,   0,   0,   0,   0,   0,   0,   0,   0, 891]])"
      ]
     },
     "execution_count": 19,
     "metadata": {},
     "output_type": "execute_result"
    }
   ],
   "source": [
    "np.multiply(a5, a6)  # will do the same - we can use also this writing but we don't need to"
   ]
  },
  {
   "cell_type": "code",
   "execution_count": null,
   "metadata": {},
   "outputs": [],
   "source": []
  }
 ],
 "metadata": {
  "kernelspec": {
   "display_name": "Python 3 (ipykernel)",
   "language": "python",
   "name": "python3"
  },
  "language_info": {
   "codemirror_mode": {
    "name": "ipython",
    "version": 3
   },
   "file_extension": ".py",
   "mimetype": "text/x-python",
   "name": "python",
   "nbconvert_exporter": "python",
   "pygments_lexer": "ipython3",
   "version": "3.12.4"
  }
 },
 "nbformat": 4,
 "nbformat_minor": 4
}
