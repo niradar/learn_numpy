{
 "cells": [
  {
   "cell_type": "markdown",
   "metadata": {},
   "source": [
    "# Changing the shape of Arrays"
   ]
  },
  {
   "cell_type": "code",
   "execution_count": 3,
   "metadata": {
    "execution": {
     "iopub.execute_input": "2024-07-25T09:01:01.525594Z",
     "iopub.status.busy": "2024-07-25T09:01:01.524607Z",
     "iopub.status.idle": "2024-07-25T09:01:01.529609Z",
     "shell.execute_reply": "2024-07-25T09:01:01.529609Z",
     "shell.execute_reply.started": "2024-07-25T09:01:01.525594Z"
    }
   },
   "outputs": [],
   "source": [
    "import numpy as np"
   ]
  },
  {
   "cell_type": "markdown",
   "metadata": {},
   "source": [
    "## Option 1: modify `shape`"
   ]
  },
  {
   "cell_type": "code",
   "execution_count": 4,
   "metadata": {
    "execution": {
     "iopub.execute_input": "2024-07-25T09:01:02.908213Z",
     "iopub.status.busy": "2024-07-25T09:01:02.908213Z",
     "iopub.status.idle": "2024-07-25T09:01:02.912140Z",
     "shell.execute_reply": "2024-07-25T09:01:02.912140Z",
     "shell.execute_reply.started": "2024-07-25T09:01:02.908213Z"
    }
   },
   "outputs": [],
   "source": [
    "a = np.arange(24)"
   ]
  },
  {
   "cell_type": "code",
   "execution_count": 5,
   "metadata": {
    "execution": {
     "iopub.execute_input": "2024-07-25T09:01:03.524714Z",
     "iopub.status.busy": "2024-07-25T09:01:03.523718Z",
     "iopub.status.idle": "2024-07-25T09:01:03.528706Z",
     "shell.execute_reply": "2024-07-25T09:01:03.528706Z",
     "shell.execute_reply.started": "2024-07-25T09:01:03.524714Z"
    }
   },
   "outputs": [
    {
     "data": {
      "text/plain": [
       "array([ 0,  1,  2,  3,  4,  5,  6,  7,  8,  9, 10, 11, 12, 13, 14, 15, 16,\n",
       "       17, 18, 19, 20, 21, 22, 23])"
      ]
     },
     "execution_count": 5,
     "metadata": {},
     "output_type": "execute_result"
    }
   ],
   "source": [
    "a"
   ]
  },
  {
   "cell_type": "code",
   "execution_count": 6,
   "metadata": {
    "execution": {
     "iopub.execute_input": "2024-07-25T09:01:03.940514Z",
     "iopub.status.busy": "2024-07-25T09:01:03.939515Z",
     "iopub.status.idle": "2024-07-25T09:01:03.943204Z",
     "shell.execute_reply": "2024-07-25T09:01:03.943204Z",
     "shell.execute_reply.started": "2024-07-25T09:01:03.940514Z"
    }
   },
   "outputs": [],
   "source": [
    "a.shape = (4,6)"
   ]
  },
  {
   "cell_type": "code",
   "execution_count": 7,
   "metadata": {
    "execution": {
     "iopub.execute_input": "2024-07-25T09:01:04.011958Z",
     "iopub.status.busy": "2024-07-25T09:01:04.010958Z",
     "iopub.status.idle": "2024-07-25T09:01:04.017235Z",
     "shell.execute_reply": "2024-07-25T09:01:04.017235Z",
     "shell.execute_reply.started": "2024-07-25T09:01:04.011958Z"
    }
   },
   "outputs": [
    {
     "data": {
      "text/plain": [
       "array([[ 0,  1,  2,  3,  4,  5],\n",
       "       [ 6,  7,  8,  9, 10, 11],\n",
       "       [12, 13, 14, 15, 16, 17],\n",
       "       [18, 19, 20, 21, 22, 23]])"
      ]
     },
     "execution_count": 7,
     "metadata": {},
     "output_type": "execute_result"
    }
   ],
   "source": [
    "a"
   ]
  },
  {
   "cell_type": "code",
   "execution_count": 8,
   "metadata": {
    "execution": {
     "iopub.execute_input": "2024-07-25T09:01:04.620616Z",
     "iopub.status.busy": "2024-07-25T09:01:04.619615Z",
     "iopub.status.idle": "2024-07-25T09:01:04.625617Z",
     "shell.execute_reply": "2024-07-25T09:01:04.624617Z",
     "shell.execute_reply.started": "2024-07-25T09:01:04.620616Z"
    }
   },
   "outputs": [],
   "source": [
    "a.shape = (6,4)"
   ]
  },
  {
   "cell_type": "code",
   "execution_count": 9,
   "metadata": {
    "execution": {
     "iopub.execute_input": "2024-07-25T09:01:05.004609Z",
     "iopub.status.busy": "2024-07-25T09:01:05.003608Z",
     "iopub.status.idle": "2024-07-25T09:01:05.009962Z",
     "shell.execute_reply": "2024-07-25T09:01:05.009962Z",
     "shell.execute_reply.started": "2024-07-25T09:01:05.004609Z"
    }
   },
   "outputs": [
    {
     "data": {
      "text/plain": [
       "array([[ 0,  1,  2,  3],\n",
       "       [ 4,  5,  6,  7],\n",
       "       [ 8,  9, 10, 11],\n",
       "       [12, 13, 14, 15],\n",
       "       [16, 17, 18, 19],\n",
       "       [20, 21, 22, 23]])"
      ]
     },
     "execution_count": 9,
     "metadata": {},
     "output_type": "execute_result"
    }
   ],
   "source": [
    "a"
   ]
  },
  {
   "cell_type": "markdown",
   "metadata": {},
   "source": [
    "## Use `-1` for auto-calculating a dimension size"
   ]
  },
  {
   "cell_type": "code",
   "execution_count": 10,
   "metadata": {
    "execution": {
     "iopub.execute_input": "2024-07-25T09:01:13.924846Z",
     "iopub.status.busy": "2024-07-25T09:01:13.924846Z",
     "iopub.status.idle": "2024-07-25T09:01:13.928348Z",
     "shell.execute_reply": "2024-07-25T09:01:13.928348Z",
     "shell.execute_reply.started": "2024-07-25T09:01:13.924846Z"
    }
   },
   "outputs": [],
   "source": [
    "a.shape = (3,-1)  # auto calculate the dimenstion based on the given one"
   ]
  },
  {
   "cell_type": "code",
   "execution_count": 11,
   "metadata": {
    "execution": {
     "iopub.execute_input": "2024-07-25T09:01:15.140428Z",
     "iopub.status.busy": "2024-07-25T09:01:15.140428Z",
     "iopub.status.idle": "2024-07-25T09:01:15.146224Z",
     "shell.execute_reply": "2024-07-25T09:01:15.146224Z",
     "shell.execute_reply.started": "2024-07-25T09:01:15.140428Z"
    }
   },
   "outputs": [
    {
     "data": {
      "text/plain": [
       "array([[ 0,  1,  2,  3,  4,  5,  6,  7],\n",
       "       [ 8,  9, 10, 11, 12, 13, 14, 15],\n",
       "       [16, 17, 18, 19, 20, 21, 22, 23]])"
      ]
     },
     "execution_count": 11,
     "metadata": {},
     "output_type": "execute_result"
    }
   ],
   "source": [
    "a"
   ]
  },
  {
   "cell_type": "markdown",
   "metadata": {},
   "source": [
    "## Option 2: Use `.reshape()`"
   ]
  },
  {
   "cell_type": "code",
   "execution_count": 12,
   "metadata": {
    "execution": {
     "iopub.execute_input": "2024-07-25T09:01:16.331386Z",
     "iopub.status.busy": "2024-07-25T09:01:16.331386Z",
     "iopub.status.idle": "2024-07-25T09:01:16.337159Z",
     "shell.execute_reply": "2024-07-25T09:01:16.337159Z",
     "shell.execute_reply.started": "2024-07-25T09:01:16.331386Z"
    }
   },
   "outputs": [
    {
     "data": {
      "text/plain": [
       "array([[ 0,  1,  2,  3],\n",
       "       [ 4,  5,  6,  7],\n",
       "       [ 8,  9, 10, 11],\n",
       "       [12, 13, 14, 15],\n",
       "       [16, 17, 18, 19],\n",
       "       [20, 21, 22, 23]])"
      ]
     },
     "execution_count": 12,
     "metadata": {},
     "output_type": "execute_result"
    }
   ],
   "source": [
    "np.arange(24).reshape(6, 4)"
   ]
  },
  {
   "cell_type": "code",
   "execution_count": 13,
   "metadata": {
    "execution": {
     "iopub.execute_input": "2024-07-25T09:01:17.036326Z",
     "iopub.status.busy": "2024-07-25T09:01:17.035326Z",
     "iopub.status.idle": "2024-07-25T09:01:17.040895Z",
     "shell.execute_reply": "2024-07-25T09:01:17.040895Z",
     "shell.execute_reply.started": "2024-07-25T09:01:17.035326Z"
    }
   },
   "outputs": [
    {
     "data": {
      "text/plain": [
       "array([[[ 0,  1,  2,  3],\n",
       "        [ 4,  5,  6,  7]],\n",
       "\n",
       "       [[ 8,  9, 10, 11],\n",
       "        [12, 13, 14, 15]],\n",
       "\n",
       "       [[16, 17, 18, 19],\n",
       "        [20, 21, 22, 23]]])"
      ]
     },
     "execution_count": 13,
     "metadata": {},
     "output_type": "execute_result"
    }
   ],
   "source": [
    "np.arange(24).reshape((3, 2, 4))"
   ]
  },
  {
   "cell_type": "code",
   "execution_count": 14,
   "metadata": {
    "execution": {
     "iopub.execute_input": "2024-07-25T09:01:20.738850Z",
     "iopub.status.busy": "2024-07-25T09:01:20.738850Z",
     "iopub.status.idle": "2024-07-25T09:01:20.744548Z",
     "shell.execute_reply": "2024-07-25T09:01:20.744548Z",
     "shell.execute_reply.started": "2024-07-25T09:01:20.738850Z"
    }
   },
   "outputs": [
    {
     "data": {
      "text/plain": [
       "array([[ 0,  1,  2,  3,  4,  5,  6,  7],\n",
       "       [ 8,  9, 10, 11, 12, 13, 14, 15],\n",
       "       [16, 17, 18, 19, 20, 21, 22, 23]])"
      ]
     },
     "execution_count": 14,
     "metadata": {},
     "output_type": "execute_result"
    }
   ],
   "source": [
    "np.arange(24).reshape((3, -1))\n"
   ]
  },
  {
   "cell_type": "markdown",
   "metadata": {},
   "source": [
    "## `.ravel()`"
   ]
  },
  {
   "cell_type": "code",
   "execution_count": 15,
   "metadata": {
    "execution": {
     "iopub.execute_input": "2024-07-25T09:01:22.339770Z",
     "iopub.status.busy": "2024-07-25T09:01:22.339770Z",
     "iopub.status.idle": "2024-07-25T09:01:22.345769Z",
     "shell.execute_reply": "2024-07-25T09:01:22.344769Z",
     "shell.execute_reply.started": "2024-07-25T09:01:22.339770Z"
    }
   },
   "outputs": [
    {
     "data": {
      "text/plain": [
       "array([[ 0,  1,  2,  3,  4,  5,  6,  7],\n",
       "       [ 8,  9, 10, 11, 12, 13, 14, 15],\n",
       "       [16, 17, 18, 19, 20, 21, 22, 23]])"
      ]
     },
     "execution_count": 15,
     "metadata": {},
     "output_type": "execute_result"
    }
   ],
   "source": [
    "a"
   ]
  },
  {
   "cell_type": "code",
   "execution_count": 18,
   "metadata": {
    "execution": {
     "iopub.execute_input": "2024-07-25T09:01:44.909043Z",
     "iopub.status.busy": "2024-07-25T09:01:44.909043Z",
     "iopub.status.idle": "2024-07-25T09:01:44.915524Z",
     "shell.execute_reply": "2024-07-25T09:01:44.915524Z",
     "shell.execute_reply.started": "2024-07-25T09:01:44.909043Z"
    }
   },
   "outputs": [
    {
     "data": {
      "text/plain": [
       "array([ 0,  1,  2,  3,  4,  5,  6,  7,  8,  9, 10, 11, 12, 13, 14, 15, 16,\n",
       "       17, 18, 19, 20, 21, 22, 23])"
      ]
     },
     "execution_count": 18,
     "metadata": {},
     "output_type": "execute_result"
    }
   ],
   "source": [
    "a.reshape(-1)"
   ]
  },
  {
   "cell_type": "code",
   "execution_count": 16,
   "metadata": {
    "execution": {
     "iopub.execute_input": "2024-07-25T09:01:33.012401Z",
     "iopub.status.busy": "2024-07-25T09:01:33.011401Z",
     "iopub.status.idle": "2024-07-25T09:01:33.016914Z",
     "shell.execute_reply": "2024-07-25T09:01:33.016914Z",
     "shell.execute_reply.started": "2024-07-25T09:01:33.012401Z"
    }
   },
   "outputs": [
    {
     "data": {
      "text/plain": [
       "array([ 0,  1,  2,  3,  4,  5,  6,  7,  8,  9, 10, 11, 12, 13, 14, 15, 16,\n",
       "       17, 18, 19, 20, 21, 22, 23])"
      ]
     },
     "execution_count": 16,
     "metadata": {},
     "output_type": "execute_result"
    }
   ],
   "source": [
    "a.ravel() #  the same"
   ]
  },
  {
   "cell_type": "markdown",
   "metadata": {},
   "source": [
    "Note: `.reshape()` (and `.ravel()`) usually return **views**.  Refer to docs for more info."
   ]
  },
  {
   "cell_type": "code",
   "execution_count": 20,
   "metadata": {
    "execution": {
     "iopub.execute_input": "2024-07-25T09:02:41.491221Z",
     "iopub.status.busy": "2024-07-25T09:02:41.491221Z",
     "iopub.status.idle": "2024-07-25T09:02:41.497551Z",
     "shell.execute_reply": "2024-07-25T09:02:41.496548Z",
     "shell.execute_reply.started": "2024-07-25T09:02:41.491221Z"
    }
   },
   "outputs": [
    {
     "data": {
      "text/plain": [
       "array([[ 0,  1,  2,  3,  4,  5,  6,  7],\n",
       "       [ 8,  9, 10, 11, 12, 13, 14, 15],\n",
       "       [16, 17, 18, 19, 20, 21, 22, 23]])"
      ]
     },
     "execution_count": 20,
     "metadata": {},
     "output_type": "execute_result"
    }
   ],
   "source": [
    "a"
   ]
  },
  {
   "cell_type": "markdown",
   "metadata": {},
   "source": [
    ".shape actually change the object. reshape() and ravel() doesn't do so"
   ]
  },
  {
   "cell_type": "code",
   "execution_count": null,
   "metadata": {},
   "outputs": [],
   "source": []
  }
 ],
 "metadata": {
  "kernelspec": {
   "display_name": "Python 3 (ipykernel)",
   "language": "python",
   "name": "python3"
  },
  "language_info": {
   "codemirror_mode": {
    "name": "ipython",
    "version": 3
   },
   "file_extension": ".py",
   "mimetype": "text/x-python",
   "name": "python",
   "nbconvert_exporter": "python",
   "pygments_lexer": "ipython3",
   "version": "3.12.1"
  }
 },
 "nbformat": 4,
 "nbformat_minor": 4
}
