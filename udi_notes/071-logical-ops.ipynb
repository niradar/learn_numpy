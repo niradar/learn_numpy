{
 "cells": [
  {
   "cell_type": "code",
   "execution_count": 1,
   "metadata": {
    "execution": {
     "iopub.execute_input": "2024-07-28T19:38:04.923681Z",
     "iopub.status.busy": "2024-07-28T19:38:04.922682Z",
     "iopub.status.idle": "2024-07-28T19:38:05.503095Z",
     "shell.execute_reply": "2024-07-28T19:38:05.502093Z",
     "shell.execute_reply.started": "2024-07-28T19:38:04.923681Z"
    }
   },
   "outputs": [],
   "source": [
    "%matplotlib inline\n",
    "import numpy as np\n",
    "from matplotlib import pyplot as plt"
   ]
  },
  {
   "cell_type": "code",
   "execution_count": 2,
   "metadata": {
    "execution": {
     "iopub.execute_input": "2024-07-28T19:38:05.768958Z",
     "iopub.status.busy": "2024-07-28T19:38:05.768958Z",
     "iopub.status.idle": "2024-07-28T19:38:05.775958Z",
     "shell.execute_reply": "2024-07-28T19:38:05.774959Z",
     "shell.execute_reply.started": "2024-07-28T19:38:05.768958Z"
    }
   },
   "outputs": [
    {
     "data": {
      "text/plain": [
       "array([0, 1, 2, 3, 4, 5, 6, 7, 8, 9])"
      ]
     },
     "execution_count": 2,
     "metadata": {},
     "output_type": "execute_result"
    }
   ],
   "source": [
    "a = np.arange(10)\n",
    "a"
   ]
  },
  {
   "cell_type": "code",
   "execution_count": 3,
   "metadata": {
    "execution": {
     "iopub.execute_input": "2024-07-28T19:38:06.376546Z",
     "iopub.status.busy": "2024-07-28T19:38:06.376546Z",
     "iopub.status.idle": "2024-07-28T19:38:06.383519Z",
     "shell.execute_reply": "2024-07-28T19:38:06.382518Z",
     "shell.execute_reply.started": "2024-07-28T19:38:06.376546Z"
    }
   },
   "outputs": [
    {
     "data": {
      "text/plain": [
       "array([0, 1, 2, 3, 4, 5, 6, 7, 8, 9])"
      ]
     },
     "execution_count": 3,
     "metadata": {},
     "output_type": "execute_result"
    }
   ],
   "source": [
    "a"
   ]
  },
  {
   "cell_type": "markdown",
   "metadata": {},
   "source": [
    "# Logical operations on arrays and scalars"
   ]
  },
  {
   "cell_type": "code",
   "execution_count": 4,
   "metadata": {
    "execution": {
     "iopub.execute_input": "2024-07-28T19:38:07.940552Z",
     "iopub.status.busy": "2024-07-28T19:38:07.940552Z",
     "iopub.status.idle": "2024-07-28T19:38:07.947155Z",
     "shell.execute_reply": "2024-07-28T19:38:07.946155Z",
     "shell.execute_reply.started": "2024-07-28T19:38:07.940552Z"
    }
   },
   "outputs": [
    {
     "data": {
      "text/plain": [
       "array([False, False,  True, False, False, False, False, False, False,\n",
       "       False])"
      ]
     },
     "execution_count": 4,
     "metadata": {},
     "output_type": "execute_result"
    }
   ],
   "source": [
    "a == 2"
   ]
  },
  {
   "cell_type": "code",
   "execution_count": 5,
   "metadata": {
    "execution": {
     "iopub.execute_input": "2024-07-28T19:38:09.101591Z",
     "iopub.status.busy": "2024-07-28T19:38:09.100600Z",
     "iopub.status.idle": "2024-07-28T19:38:09.107106Z",
     "shell.execute_reply": "2024-07-28T19:38:09.106112Z",
     "shell.execute_reply.started": "2024-07-28T19:38:09.101591Z"
    }
   },
   "outputs": [
    {
     "data": {
      "text/plain": [
       "array([ True,  True,  True,  True, False, False, False, False, False,\n",
       "       False])"
      ]
     },
     "execution_count": 5,
     "metadata": {},
     "output_type": "execute_result"
    }
   ],
   "source": [
    "a <= 3"
   ]
  },
  {
   "cell_type": "code",
   "execution_count": 6,
   "metadata": {
    "execution": {
     "iopub.execute_input": "2024-07-28T19:38:14.876277Z",
     "iopub.status.busy": "2024-07-28T19:38:14.876277Z",
     "iopub.status.idle": "2024-07-28T19:38:14.881994Z",
     "shell.execute_reply": "2024-07-28T19:38:14.881994Z",
     "shell.execute_reply.started": "2024-07-28T19:38:14.876277Z"
    }
   },
   "outputs": [
    {
     "data": {
      "text/plain": [
       "array([ True, False, False, False, False, False,  True, False, False,\n",
       "       False])"
      ]
     },
     "execution_count": 6,
     "metadata": {},
     "output_type": "execute_result"
    }
   ],
   "source": [
    "np.logical_and(a % 3 == 0, a % 2 == 0)"
   ]
  },
  {
   "cell_type": "code",
   "execution_count": 9,
   "metadata": {
    "execution": {
     "iopub.execute_input": "2024-07-28T19:42:58.604830Z",
     "iopub.status.busy": "2024-07-28T19:42:58.604830Z",
     "iopub.status.idle": "2024-07-28T19:42:58.612347Z",
     "shell.execute_reply": "2024-07-28T19:42:58.611339Z",
     "shell.execute_reply.started": "2024-07-28T19:42:58.604830Z"
    }
   },
   "outputs": [
    {
     "data": {
      "text/plain": [
       "[array([ True, False, False, False, False, False,  True, False, False,\n",
       "        False])]"
      ]
     },
     "execution_count": 9,
     "metadata": {},
     "output_type": "execute_result"
    }
   ],
   "source": [
    "[(a % 3 == 0) & (a % 2 == 0)]  # Another way - & is the bitwise operation and it works as all are bools"
   ]
  },
  {
   "cell_type": "code",
   "execution_count": 10,
   "metadata": {
    "execution": {
     "iopub.execute_input": "2024-07-28T19:43:15.357789Z",
     "iopub.status.busy": "2024-07-28T19:43:15.357789Z",
     "iopub.status.idle": "2024-07-28T19:43:15.363344Z",
     "shell.execute_reply": "2024-07-28T19:43:15.363344Z",
     "shell.execute_reply.started": "2024-07-28T19:43:15.357789Z"
    }
   },
   "outputs": [
    {
     "data": {
      "text/plain": [
       "[array([ True, False,  True,  True,  True, False,  True, False,  True,\n",
       "         True])]"
      ]
     },
     "execution_count": 10,
     "metadata": {},
     "output_type": "execute_result"
    }
   ],
   "source": [
    "[(a % 3 == 0) | (a % 2 == 0)]  # Or - again using bitwise ops"
   ]
  },
  {
   "cell_type": "code",
   "execution_count": 11,
   "metadata": {
    "execution": {
     "iopub.execute_input": "2024-07-28T19:44:14.510369Z",
     "iopub.status.busy": "2024-07-28T19:44:14.510369Z",
     "iopub.status.idle": "2024-07-28T19:44:14.515361Z",
     "shell.execute_reply": "2024-07-28T19:44:14.515361Z",
     "shell.execute_reply.started": "2024-07-28T19:44:14.510369Z"
    }
   },
   "outputs": [
    {
     "data": {
      "text/plain": [
       "[array([False,  True,  True,  True,  True,  True, False,  True,  True,\n",
       "         True])]"
      ]
     },
     "execution_count": 11,
     "metadata": {},
     "output_type": "execute_result"
    }
   ],
   "source": [
    "[~((a % 3 == 0) & (a % 2 == 0))]  # Not - again using bitwise ops"
   ]
  },
  {
   "cell_type": "code",
   "execution_count": null,
   "metadata": {},
   "outputs": [],
   "source": []
  }
 ],
 "metadata": {
  "kernelspec": {
   "display_name": "Python 3 (ipykernel)",
   "language": "python",
   "name": "python3"
  },
  "language_info": {
   "codemirror_mode": {
    "name": "ipython",
    "version": 3
   },
   "file_extension": ".py",
   "mimetype": "text/x-python",
   "name": "python",
   "nbconvert_exporter": "python",
   "pygments_lexer": "ipython3",
   "version": "3.12.4"
  }
 },
 "nbformat": 4,
 "nbformat_minor": 4
}
